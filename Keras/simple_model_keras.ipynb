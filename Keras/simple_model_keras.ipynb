{
 "cells": [
  {
   "cell_type": "code",
   "execution_count": 5,
   "metadata": {},
   "outputs": [
    {
     "name": "stderr",
     "output_type": "stream",
     "text": [
      "Using TensorFlow backend.\n",
      "/home/rosi/anaconda3/envs/tfkeras/lib/python3.6/site-packages/ipykernel_launcher.py:20: UserWarning: Update your `Conv2D` call to the Keras 2 API: `Conv2D(32, (3, 3), input_shape=(32, 32, 3...)`\n",
      "/home/rosi/anaconda3/envs/tfkeras/lib/python3.6/site-packages/keras/models.py:942: UserWarning: The `nb_epoch` argument in `fit` has been renamed `epochs`.\n",
      "  warnings.warn('The `nb_epoch` argument in `fit` '\n"
     ]
    },
    {
     "name": "stdout",
     "output_type": "stream",
     "text": [
      "Train on 80 samples, validate on 20 samples\n",
      "Epoch 1/10\n",
      "80/80 [==============================] - 2s 21ms/step - loss: 1.3694 - acc: 0.3625 - val_loss: 0.8078 - val_acc: 0.5000\n",
      "Epoch 2/10\n",
      "80/80 [==============================] - 0s 840us/step - loss: 0.8469 - acc: 0.5250 - val_loss: 0.5667 - val_acc: 0.8500\n",
      "Epoch 3/10\n",
      "80/80 [==============================] - 0s 742us/step - loss: 0.6482 - acc: 0.7875 - val_loss: 0.4100 - val_acc: 0.8500\n",
      "Epoch 4/10\n",
      "80/80 [==============================] - 0s 737us/step - loss: 0.5276 - acc: 0.7625 - val_loss: 0.3357 - val_acc: 0.8500\n",
      "Epoch 5/10\n",
      "80/80 [==============================] - 0s 886us/step - loss: 0.4062 - acc: 0.8250 - val_loss: 0.2723 - val_acc: 0.8500\n",
      "Epoch 6/10\n",
      "80/80 [==============================] - 0s 781us/step - loss: 0.3492 - acc: 0.8375 - val_loss: 0.2036 - val_acc: 1.0000\n",
      "Epoch 7/10\n",
      "80/80 [==============================] - 0s 822us/step - loss: 0.2892 - acc: 0.8500 - val_loss: 0.2039 - val_acc: 0.8500\n",
      "Epoch 8/10\n",
      "80/80 [==============================] - 0s 764us/step - loss: 0.2631 - acc: 0.8750 - val_loss: 0.1677 - val_acc: 1.0000\n",
      "Epoch 9/10\n",
      "80/80 [==============================] - 0s 704us/step - loss: 0.2464 - acc: 0.9000 - val_loss: 0.1479 - val_acc: 1.0000\n",
      "Epoch 10/10\n",
      "80/80 [==============================] - 0s 891us/step - loss: 0.2214 - acc: 0.9500 - val_loss: 0.1346 - val_acc: 1.0000\n",
      "20/20 [==============================] - 0s 144us/step\n",
      "loss: 0.23241026699543\n",
      "acc: 1.0\n"
     ]
    }
   ],
   "source": [
    "# Load pickled data\n",
    "import pickle\n",
    "import numpy as np\n",
    "import tensorflow as tf\n",
    "#tf.python.control_flow_ops = tf\n",
    "\n",
    "with open('small_train_traffic.p', mode='rb') as f:\n",
    "    data = pickle.load(f)\n",
    "\n",
    "X_train, y_train = data['features'], data['labels']\n",
    "\n",
    "# Initial Setup for Keras\n",
    "from keras.models import Sequential\n",
    "from keras.layers.core import Dense, Activation, Flatten, Dropout\n",
    "from keras.layers.convolutional import Convolution2D\n",
    "from keras.layers.pooling import MaxPooling2D\n",
    "\n",
    "# TODO: Build the Final Test Neural Network in Keras Here\n",
    "model = Sequential()\n",
    "model.add(Convolution2D(32, 3, 3, input_shape=(32, 32, 3)))\n",
    "model.add(MaxPooling2D((2, 2)))\n",
    "model.add(Dropout(0.5))\n",
    "model.add(Activation('relu'))\n",
    "model.add(Flatten())\n",
    "model.add(Dense(128))\n",
    "model.add(Activation('relu'))\n",
    "model.add(Dense(5))\n",
    "model.add(Activation('softmax'))\n",
    "# preprocess data\n",
    "X_normalized = np.array(X_train / 255.0 - 0.5 )\n",
    "\n",
    "from sklearn.preprocessing import LabelBinarizer\n",
    "label_binarizer = LabelBinarizer()\n",
    "y_one_hot = label_binarizer.fit_transform(y_train)\n",
    "\n",
    "model.compile('adam', 'categorical_crossentropy', ['accuracy'])\n",
    "history = model.fit(X_normalized, y_one_hot, nb_epoch=10, validation_split=0.2)\n",
    "\n",
    "with open('small_test_traffic.p', 'rb') as f:\n",
    "    data_test = pickle.load(f)\n",
    "\n",
    "X_test = data_test['features']\n",
    "y_test = data_test['labels']\n",
    "\n",
    "# preprocess data\n",
    "X_normalized_test = np.array(X_test / 255.0 - 0.5 )\n",
    "y_one_hot_test = label_binarizer.fit_transform(y_test)\n",
    "\n",
    "\n",
    "# TODO: Evaluate the test data in Keras Here\n",
    "metrics = model.evaluate(X_normalized_test, y_one_hot_test)\n",
    "# TODO: UNCOMMENT CODE\n",
    "for metric_i in range(len(model.metrics_names)):\n",
    "    metric_name = model.metrics_names[metric_i]\n",
    "    metric_value = metrics[metric_i]\n",
    "    print('{}: {}'.format(metric_name, metric_value))\n",
    "    "
   ]
  },
  {
   "cell_type": "code",
   "execution_count": null,
   "metadata": {
    "collapsed": true
   },
   "outputs": [],
   "source": []
  }
 ],
 "metadata": {
  "kernelspec": {
   "display_name": "Python 3",
   "language": "python",
   "name": "python3"
  },
  "language_info": {
   "codemirror_mode": {
    "name": "ipython",
    "version": 3
   },
   "file_extension": ".py",
   "mimetype": "text/x-python",
   "name": "python",
   "nbconvert_exporter": "python",
   "pygments_lexer": "ipython3",
   "version": "3.6.1"
  }
 },
 "nbformat": 4,
 "nbformat_minor": 2
}
